{
 "cells": [
  {
   "cell_type": "code",
   "execution_count": null,
   "id": "racial-lodge",
   "metadata": {},
   "outputs": [],
   "source": [
    "import torch\n",
    "import torch.nn as nn\n",
    "import torchvision.transforms as transforms\n",
    "import torch.optim as optim\n",
    "import torchvision.datasets as datasets\n",
    "import imageio\n",
    "import numpy as np\n",
    "import matplotlib\n",
    "from torchvision.utils import make_grid, save_image\n",
    "from torch.utils.data import DataLoader\n",
    "from matplotlib import pyplot as plt\n",
    "from tqdm import tqdm"
   ]
  },
  {
   "cell_type": "markdown",
   "id": "supported-pontiac",
   "metadata": {},
   "source": [
    "# Define learning parameters"
   ]
  },
  {
   "cell_type": "code",
   "execution_count": null,
   "id": "absolute-country",
   "metadata": {},
   "outputs": [],
   "source": [
    "# learning parameters\n",
    "batch_size = 512\n",
    "epochs = 100\n",
    "sample_size = 64 # fixed sample size for generator\n",
    "nz = 128 # latent vector size\n",
    "k = 1 # number of steps to apply to the discriminator\n",
    "device = torch.device('cuda' if torch.cuda.is_available() else 'cpu')"
   ]
  },
  {
   "cell_type": "markdown",
   "id": "intellectual-tenant",
   "metadata": {},
   "source": [
    "# Prepare training dataset"
   ]
  },
  {
   "cell_type": "code",
   "execution_count": null,
   "id": "opposite-hundred",
   "metadata": {},
   "outputs": [],
   "source": [
    "transform = transforms.Compose([\n",
    "                                transforms.ToTensor(),\n",
    "                                transforms.Normalize((0.5,),(0.5,)),\n",
    "])\n",
    "to_pil_image = transforms.ToPILImage()\n",
    "\n",
    "# Make input, output folders\n",
    "!mkdir -p input\n",
    "!mkdir -p outputs\n",
    "\n",
    "# Load train data\n",
    "train_data = datasets.MNIST(\n",
    "    root='input/data',\n",
    "    train=True,\n",
    "    download=True,\n",
    "    transform=transform\n",
    ")\n",
    "train_loader = DataLoader(train_data, batch_size=batch_size, shuffle=True)"
   ]
  },
  {
   "cell_type": "markdown",
   "id": "aboriginal-guitar",
   "metadata": {},
   "source": [
    "# Generator"
   ]
  },
  {
   "cell_type": "code",
   "execution_count": null,
   "id": "speaking-diary",
   "metadata": {},
   "outputs": [],
   "source": [
    "class Generator(nn.Module):\n",
    "    def __init__(self, nz):\n",
    "        super(Generator, self).__init__()\n",
    "        self.nz = nz\n",
    "        self.main = nn.Sequential(\n",
    "            nn.Linear(self.nz, 256),\n",
    "            nn.LeakyReLU(0.2),\n",
    "            nn.Linear(256, 512),\n",
    "            nn.LeakyReLU(0.2),\n",
    "            nn.Linear(512, 1024),\n",
    "            nn.LeakyReLU(0.2),\n",
    "            nn.Linear(1024, 784),\n",
    "            nn.Tanh(),\n",
    "        )\n",
    "    def forward(self, x):\n",
    "        return self.main(x).view(-1, 1, 28, 28)"
   ]
  },
  {
   "cell_type": "markdown",
   "id": "later-democracy",
   "metadata": {},
   "source": [
    "# Discriminator"
   ]
  },
  {
   "cell_type": "code",
   "execution_count": null,
   "id": "silent-zealand",
   "metadata": {},
   "outputs": [],
   "source": [
    "class Discriminator(nn.Module):\n",
    "    def __init__(self):\n",
    "        super(Discriminator, self).__init__()\n",
    "        self.n_input = 784\n",
    "        self.main = nn.Sequential(\n",
    "            nn.Linear(self.n_input, 1024),\n",
    "            nn.LeakyReLU(0.2),\n",
    "            nn.Dropout(0.3),\n",
    "            nn.Linear(1024, 512),\n",
    "            nn.LeakyReLU(0.2),\n",
    "            nn.Dropout(0.3),\n",
    "            nn.Linear(512, 256),\n",
    "            nn.LeakyReLU(0.2),\n",
    "            nn.Dropout(0.3),\n",
    "            nn.Linear(256, 1),\n",
    "            nn.Sigmoid(),\n",
    "        )\n",
    "    def forward(self, x):\n",
    "        x = x.view(-1, 784)\n",
    "        return self.main(x)"
   ]
  },
  {
   "cell_type": "code",
   "execution_count": null,
   "id": "daily-palestine",
   "metadata": {},
   "outputs": [],
   "source": [
    "generator = Generator(nz).to(device)\n",
    "discriminator = Discriminator().to(device)\n",
    "print('##### GENERATOR #####')\n",
    "print(generator)\n",
    "print('######################')\n",
    "print('\\n##### DISCRIMINATOR #####')\n",
    "print(discriminator)\n",
    "print('######################')"
   ]
  },
  {
   "cell_type": "markdown",
   "id": "moral-brooks",
   "metadata": {},
   "source": [
    "# Tools for training"
   ]
  },
  {
   "cell_type": "code",
   "execution_count": null,
   "id": "moved-lawyer",
   "metadata": {},
   "outputs": [],
   "source": [
    "# optimizers\n",
    "optim_g = optim.Adam(generator.parameters(), lr=0.0002)\n",
    "optim_d = optim.Adam(discriminator.parameters(), lr=0.0002)"
   ]
  },
  {
   "cell_type": "code",
   "execution_count": null,
   "id": "irish-allen",
   "metadata": {},
   "outputs": [],
   "source": [
    "# loss function\n",
    "criterion = nn.BCELoss() # Binary Cross Entropy loss"
   ]
  },
  {
   "cell_type": "code",
   "execution_count": null,
   "id": "suited-fishing",
   "metadata": {},
   "outputs": [],
   "source": [
    "losses_g = [] # to store generator loss after each epoch\n",
    "losses_d = [] # to store discriminator loss after each epoch\n",
    "images = [] # to store images generatd by the generator"
   ]
  },
  {
   "cell_type": "code",
   "execution_count": null,
   "id": "sensitive-heater",
   "metadata": {},
   "outputs": [],
   "source": [
    "# to create real labels (1s)\n",
    "def label_real(size):\n",
    "    data = torch.ones(size, 1)\n",
    "    return data.to(device)\n",
    "# to create fake labels (0s)\n",
    "def label_fake(size):\n",
    "    data = torch.zeros(size, 1)\n",
    "    return data.to(device)\n"
   ]
  },
  {
   "cell_type": "code",
   "execution_count": null,
   "id": "australian-apollo",
   "metadata": {},
   "outputs": [],
   "source": [
    "# function to create the noise vector\n",
    "def create_noise(sample_size, nz):\n",
    "    return torch.randn(sample_size, nz).to(device)"
   ]
  },
  {
   "cell_type": "code",
   "execution_count": null,
   "id": "extraordinary-roller",
   "metadata": {},
   "outputs": [],
   "source": [
    "# to save the images generated by the generator\n",
    "def save_generator_image(image, path):\n",
    "    save_image(image, path)"
   ]
  },
  {
   "cell_type": "code",
   "execution_count": null,
   "id": "greatest-landing",
   "metadata": {},
   "outputs": [],
   "source": [
    "# create the noise vector - fixed to track how GAN is trained.\n",
    "noise = create_noise(sample_size, nz)"
   ]
  },
  {
   "cell_type": "markdown",
   "id": "rocky-theme",
   "metadata": {},
   "source": [
    "# Q. Write training loop"
   ]
  },
  {
   "cell_type": "code",
   "execution_count": null,
   "id": "beginning-champagne",
   "metadata": {},
   "outputs": [],
   "source": [
    "torch.manual_seed(7777)\n",
    "\n",
    "def generator_loss(output, true_label):\n",
    "    ############ YOUR CODE HERE ##########\n",
    "    return criterion(output, true_label)\n",
    "    ######################################\n",
    "    \n",
    "def discriminator_loss(output, true_label):\n",
    "    ############ YOUR CODE HERE ##########\n",
    "    return criterion(output, true_label)\n",
    "    ######################################\n",
    "    \n",
    "\n",
    "for epoch in range(epochs):\n",
    "    loss_g = 0.0\n",
    "    loss_d = 0.0\n",
    "    for bi, data in tqdm(enumerate(train_loader), total=int(len(train_data)/train_loader.batch_size)):\n",
    "        ############ YOUR CODE HERE ########## \n",
    "        real_images, _ = data\n",
    "        real_images = real_images.to(device)\n",
    "        size_of_batch = real_images.size(0)\n",
    "\n",
    "        # train discriminator with real data\n",
    "        optim_d.zero_grad()\n",
    "        real_label = label_real(size_of_batch)\n",
    "        real_output = discriminator(real_images)\n",
    "        real_loss = discriminator_loss(real_output, real_label)\n",
    "\n",
    "        #train discriminator with fake data\n",
    "        fake_label = label_fake(size_of_batch)\n",
    "        fake_images = generator(create_noise(size_of_batch, nz)).detach()\n",
    "        fake_output = discriminator(fake_images)\n",
    "        fake_loss = discriminator_loss(fake_output, fake_label)\n",
    "        \n",
    "        real_loss.backward()\n",
    "        fake_loss.backward()\n",
    "        optim_d.step()\n",
    "        loss_d += (real_loss + fake_loss)\n",
    "        \n",
    "        # train generator\n",
    "        optim_g.zero_grad()\n",
    "        fake_images = generator(create_noise(size_of_batch, nz))\n",
    "        g_output = discriminator(fake_images)\n",
    "        g_loss = generator_loss(g_output, real_label)\n",
    "\n",
    "        g_loss.backward()\n",
    "        optim_g.step()\n",
    "        loss_g += g_loss\n",
    "        ######################################\n",
    "    \n",
    "    \n",
    "    # create the final fake image for the epoch\n",
    "    generated_img = generator(noise).cpu().detach()\n",
    "    \n",
    "    # make the images as grid\n",
    "    generated_img = make_grid(generated_img)\n",
    "    \n",
    "    # visualize generated images\n",
    "    if (epoch + 1) % 5 == 0:\n",
    "        plt.imshow(generated_img.permute(1, 2, 0))\n",
    "        plt.title(f'epoch {epoch+1}')\n",
    "        plt.axis('off')\n",
    "        plt.show()\n",
    "    \n",
    "    # save the generated torch tensor models to disk\n",
    "    save_generator_image(generated_img, f\"outputs/gen_img{epoch+1}.png\")\n",
    "    images.append(generated_img)\n",
    "    epoch_loss_g = loss_g / bi # total generator loss for the epoch\n",
    "    epoch_loss_d = loss_d / bi # total discriminator loss for the epoch\n",
    "    losses_g.append(epoch_loss_g)\n",
    "    losses_d.append(epoch_loss_d)\n",
    "    \n",
    "    print(f\"Epoch {epoch+1} of {epochs}\")\n",
    "    print(f\"Generator loss: {epoch_loss_g:.8f}, Discriminator loss: {epoch_loss_d:.8f}\")"
   ]
  },
  {
   "cell_type": "code",
   "execution_count": null,
   "id": "chief-jewelry",
   "metadata": {},
   "outputs": [],
   "source": [
    "print('DONE TRAINING')\n",
    "torch.save(generator.state_dict(), 'outputs/generator.pth')"
   ]
  },
  {
   "cell_type": "code",
   "execution_count": null,
   "id": "relative-certificate",
   "metadata": {},
   "outputs": [],
   "source": [
    "# save the generated images as GIF file\n",
    "imgs = [np.array(to_pil_image(img)) for img in images]\n",
    "imageio.mimsave('outputs/generator_images.gif', imgs)\n",
    "\n",
    "#reformat data\n",
    "losses_g_np = [tensor.detach().numpy() for tensor in losses_g]\n",
    "losses_d_np = [tensor.detach().numpy() for tensor in losses_d]\n",
    "print(losses_g)\n",
    "print(losses_d)\n",
    "print(losses_g_np)\n",
    "print(losses_d_np)\n"
   ]
  },
  {
   "cell_type": "code",
   "execution_count": null,
   "id": "liable-toronto",
   "metadata": {},
   "outputs": [],
   "source": [
    "# plot and save the generator and discriminator loss\n",
    "plt.figure()\n",
    "plt.plot(losses_g_np, label='Generator loss')\n",
    "plt.plot(losses_d_np, label='Discriminator Loss')\n",
    "plt.legend()\n",
    "plt.savefig('outputs/loss.png')"
   ]
  },
  {
   "cell_type": "code",
   "execution_count": null,
   "id": "adjusted-brother",
   "metadata": {},
   "outputs": [],
   "source": []
  }
 ],
 "metadata": {
  "kernelspec": {
   "display_name": "Python 3",
   "language": "python",
   "name": "python3"
  },
  "language_info": {
   "codemirror_mode": {
    "name": "ipython",
    "version": 3
   },
   "file_extension": ".py",
   "mimetype": "text/x-python",
   "name": "python",
   "nbconvert_exporter": "python",
   "pygments_lexer": "ipython3",
   "version": "3.9.6"
  }
 },
 "nbformat": 4,
 "nbformat_minor": 5
}
